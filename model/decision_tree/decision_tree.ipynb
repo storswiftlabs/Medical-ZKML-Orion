{
 "cells": [
  {
   "cell_type": "code",
   "execution_count": null,
   "id": "cc39ba50-eca3-482b-895b-b8b686af938d",
   "metadata": {},
   "outputs": [],
   "source": [
    "import joblib\n",
    "from skl2onnx import convert_sklearn\n",
    "from skl2onnx.common.data_types import FloatTensorType"
   ]
  },
  {
   "cell_type": "code",
   "execution_count": null,
   "id": "0e944ec3-2fdc-4321-8200-8ce65e5af796",
   "metadata": {},
   "outputs": [],
   "source": [
    "# Load decision tree model\n",
    "model_path = \"./dt.pkl\"\n",
    "model = joblib.load(model_path)\n"
   ]
  },
  {
   "cell_type": "code",
   "execution_count": null,
   "id": "f8737e2b-b147-45aa-b402-be315e0b8962",
   "metadata": {},
   "outputs": [],
   "source": [
    "initial_type = [('float_input', FloatTensorType([1, 6]))]\n",
    "onx = convert_sklearn(model, initial_types=initial_type)\n",
    "with open(\"decision_tree_ac.onnx\", \"wb\") as f:\n",
    "    f.write(onx.SerializeToString())"
   ]
  }
 ],
 "metadata": {
  "kernelspec": {
   "display_name": "Python 3 (ipykernel)",
   "language": "python",
   "name": "python3"
  },
  "language_info": {
   "codemirror_mode": {
    "name": "ipython",
    "version": 3
   },
   "file_extension": ".py",
   "mimetype": "text/x-python",
   "name": "python",
   "nbconvert_exporter": "python",
   "pygments_lexer": "ipython3",
   "version": "3.11.4"
  }
 },
 "nbformat": 4,
 "nbformat_minor": 5
}
