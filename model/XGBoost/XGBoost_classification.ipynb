{
 "cells": [
  {
   "cell_type": "code",
   "execution_count": 4,
   "metadata": {},
   "outputs": [],
   "source": [
    "import onnx\n",
    "import joblib\n",
    "from onnxmltools.convert import convert_xgboost\n",
    "\n",
    "from skl2onnx.common.data_types import FloatTensorType, DoubleTensorType\n"
   ]
  },
  {
   "cell_type": "code",
   "execution_count": 10,
   "metadata": {},
   "outputs": [],
   "source": [
    "# load the xgboost model\n",
    "model_path = \"./Acute_Inflammations_xgboost_classification.dat\"\n",
    "xgboost_clf = joblib.load(model_path)\n",
    "\n"
   ]
  },
  {
   "cell_type": "code",
   "execution_count": 11,
   "metadata": {},
   "outputs": [],
   "source": [
    "# set the number of columns\n",
    "ncols = 7\n",
    "TARGET_OPSET = 7"
   ]
  },
  {
   "cell_type": "code",
   "execution_count": 12,
   "metadata": {},
   "outputs": [],
   "source": [
    "onnx_model_converted = convert_xgboost(xgboost_clf, 'tree-based classifier',\n",
    "                             [('input', FloatTensorType([None, ncols]))],\n",
    "                             target_opset=TARGET_OPSET)\n"
   ]
  },
  {
   "cell_type": "code",
   "execution_count": 15,
   "metadata": {},
   "outputs": [],
   "source": [
    "onnx.save_model(onnx_model_converted, \"Acute_Inflammations_xgboost_classification.onnx\")\n"
   ]
  }
 ],
 "metadata": {
  "kernelspec": {
   "display_name": "Python 3 (ipykernel)",
   "language": "python",
   "name": "python3"
  },
  "language_info": {
   "codemirror_mode": {
    "name": "ipython",
    "version": 3
   },
   "file_extension": ".py",
   "mimetype": "text/x-python",
   "name": "python",
   "nbconvert_exporter": "python",
   "pygments_lexer": "ipython3",
   "version": "3.11.5"
  }
 },
 "nbformat": 4,
 "nbformat_minor": 4
}
