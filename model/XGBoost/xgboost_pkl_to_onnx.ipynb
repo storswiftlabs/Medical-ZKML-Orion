{
 "cells": [
  {
   "cell_type": "code",
   "execution_count": 8,
   "metadata": {},
   "outputs": [],
   "source": [
    "import onnx\n",
    "import joblib\n",
    "import xgboost\n",
    "from onnxmltools.convert import convert_xgboost\n",
    "\n",
    "from skl2onnx.common.data_types import FloatTensorType, DoubleTensorType\n"
   ]
  },
  {
   "cell_type": "code",
   "execution_count": 23,
   "metadata": {},
   "outputs": [],
   "source": [
    "class DataSet:\n",
    "    def __init__(self, name, ncols, TARGET_OPSET):\n",
    "        self.name = name\n",
    "        self.ncols = ncols\n",
    "        self.TARGET_OPSET = TARGET_OPSET\n",
    "\n",
    "datasets = [\n",
    "    DataSet(\"Acute_Inflammations\", 6, 15),\n",
    "    DataSet(\"Breast_Cancer\", 9, 15),\n",
    "    DataSet(\"Chronic_Kidney_Disease\", 24, 15),\n",
    "    DataSet(\"Heart_Disease\", 13, 15),\n",
    "    DataSet(\"Heart_Failure_Clinical_Records\", 12, 15),\n",
    "    DataSet(\"Lymphography\", 18, 15),\n",
    "    DataSet(\"Parkinsons\", 22, 15),\n",
    "    ]\n"
   ]
  },
  {
   "cell_type": "code",
   "execution_count": 25,
   "metadata": {},
   "outputs": [],
   "source": [
    "for dataset in datasets:\n",
    "    # load the xgboost model\n",
    "    model_path = f\"{dataset.name}/{dataset.name}.pkl\"\n",
    "    xgboost_clf = joblib.load(model_path)\n",
    "    onnx_model_converted = convert_xgboost(xgboost_clf, 'tree-based classifier',\n",
    "                             [('input', FloatTensorType([1, dataset.ncols]))],\n",
    "                             target_opset=dataset.TARGET_OPSET)\n",
    "    onnx.save_model(onnx_model_converted, f\"{dataset.name}/{dataset.name}.onnx\")"
   ]
  },
  {
   "cell_type": "markdown",
   "metadata": {},
   "source": [
    "# ONNX model info"
   ]
  },
  {
   "cell_type": "code",
   "execution_count": 26,
   "metadata": {},
   "outputs": [
    {
     "name": "stdout",
     "output_type": "stream",
     "text": [
      "----------------- inputs info -----------------\n",
      "{'name': 'input', 'shape': [1, 6], 'type': 'tensor(float)'}\n",
      "----------------- outputs info -----------------\n",
      "{'name': 'label', 'shape': [1], 'type': 'tensor(int64)'}\n",
      "{'name': 'probabilities', 'shape': [1, 4], 'type': 'tensor(float)'}\n"
     ]
    }
   ],
   "source": [
    "from pprint import pprint\n",
    "import onnxruntime\n",
    "\n",
    "onnx_path = \"Acute_Inflammations/Acute_Inflammations.onnx\"\n",
    "# onnx_path = \"../decision_tree/decision_tree_ac.onnx\"\n",
    "\n",
    "provider = \"CPUExecutionProvider\"\n",
    "onnx_session = onnxruntime.InferenceSession(onnx_path, providers=[provider])\n",
    "\n",
    "print(\"----------------- inputs info -----------------\")\n",
    "input_tensors = onnx_session.get_inputs()  \n",
    "for input_tensor in input_tensors:         \n",
    "    \n",
    "    input_info = {\n",
    "        \"name\" : input_tensor.name,\n",
    "        \"type\" : input_tensor.type,\n",
    "        \"shape\": input_tensor.shape,\n",
    "    }\n",
    "    pprint(input_info)\n",
    "\n",
    "print(\"----------------- outputs info -----------------\")\n",
    "output_tensors = onnx_session.get_outputs()  \n",
    "for output_tensor in output_tensors:         \n",
    "    \n",
    "    output_info = {\n",
    "        \"name\" : output_tensor.name,\n",
    "        \"type\" : output_tensor.type,\n",
    "        \"shape\": output_tensor.shape,\n",
    "    }\n",
    "    pprint(output_info)"
   ]
  }
 ],
 "metadata": {
  "kernelspec": {
   "display_name": "Python 3 (ipykernel)",
   "language": "python",
   "name": "python3"
  },
  "language_info": {
   "codemirror_mode": {
    "name": "ipython",
    "version": 3
   },
   "file_extension": ".py",
   "mimetype": "text/x-python",
   "name": "python",
   "nbconvert_exporter": "python",
   "pygments_lexer": "ipython3",
   "version": "3.11.5"
  }
 },
 "nbformat": 4,
 "nbformat_minor": 4
}