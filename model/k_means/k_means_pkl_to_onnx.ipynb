{
 "cells": [
  {
   "cell_type": "code",
   "execution_count": null,
   "metadata": {},
   "outputs": [],
   "source": [
    "import joblib\n",
    "from skl2onnx import convert_sklearn\n",
    "from skl2onnx.common.data_types import FloatTensorType"
   ]
  },
  {
   "cell_type": "code",
   "execution_count": null,
   "metadata": {},
   "outputs": [],
   "source": [
    "class DataSet:\n",
    "    def __init__(self, name, ncols):\n",
    "        self.name = name\n",
    "        self.ncols = ncols\n",
    "\n",
    "\n",
    "datasets = [\n",
    "    DataSet(\"Acute_Inflammations\", 6),\n",
    "    DataSet(\"Breast_Cancer\", 9),\n",
    "    DataSet(\"Chronic_Kidney_Disease\", 24),\n",
    "    DataSet(\"Heart_Disease\", 13),\n",
    "    DataSet(\"Heart_Failure_Clinical_Records\", 12),\n",
    "    DataSet(\"Lymphography\", 18),\n",
    "    DataSet(\"Parkinsons\", 22),\n",
    "    ]"
   ]
  },
  {
   "cell_type": "code",
   "execution_count": null,
   "metadata": {},
   "outputs": [],
   "source": [
    "for dataset in datasets:\n",
    "    # Load decision tree model\n",
    "    model_path = f\"{dataset.name}/{dataset.name}.pkl\"\n",
    "    model = joblib.load(model_path)\n",
    "    initial_type = [('float_input', FloatTensorType([1, dataset.ncols]))]\n",
    "    onx = convert_sklearn(model, initial_types=initial_type)\n",
    "    with open(f\"{dataset.name}/{dataset.name}.onnx\", \"wb\") as f:\n",
    "        f.write(onx.SerializeToString())"
   ]
  }
 ],
 "metadata": {
  "kernelspec": {
   "display_name": "Python 3 (ipykernel)",
   "language": "python",
   "name": "python3"
  },
  "language_info": {
   "codemirror_mode": {
    "name": "ipython",
    "version": 3
   },
   "file_extension": ".py",
   "mimetype": "text/x-python",
   "name": "python",
   "nbconvert_exporter": "python",
   "pygments_lexer": "ipython3",
   "version": "3.11.4"
  }
 },
 "nbformat": 4,
 "nbformat_minor": 4
}
